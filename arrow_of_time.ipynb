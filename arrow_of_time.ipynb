{
 "cells": [
  {
   "cell_type": "code",
   "execution_count": null,
   "metadata": {},
   "outputs": [],
   "source": [
    "using Pkg; Pkg.activate(\".\")"
   ]
  },
  {
   "cell_type": "markdown",
   "metadata": {},
   "source": [
    "# The microscopic origin of an arrow of time"
   ]
  },
  {
   "cell_type": "code",
   "execution_count": null,
   "metadata": {},
   "outputs": [],
   "source": [
    "# Import libraries\n",
    "\n",
    "using LinearAlgebra\n",
    "using DifferentialEquations\n",
    "using Zygote\n",
    "using Plots\n",
    "using Random\n",
    "using Distributions"
   ]
  },
  {
   "cell_type": "code",
   "execution_count": null,
   "metadata": {},
   "outputs": [],
   "source": [
    "# Definition of physics functions\n",
    "\n",
    "# A function that computes the potential energy for a given configuration q\n",
    "function wall_potential(q, barrier=true)\n",
    "    return sum([sum(exp.(25*(abs.(z).-1.0))) for z in eachcol(q)]) + barrier * sum(exp.(25*q[1,:]))\n",
    "end\n",
    "\n",
    "# A function that computes the forces acting on the particles for a given configuration q\n",
    "function wall_forces(q, barrier=true)\n",
    "    # Here, we use automatic differentiation to compute the forces via F = - d/dx V(x)\n",
    "    return -gradient((x)->wall_potential(x,barrier), q)[1]\n",
    "end\n",
    "\n",
    "# Random initialization of the configuration; thermal at temperature T\n",
    "function initialize(N,T; seed=123)\n",
    "    Random.seed!(seed)\n",
    "    # 4 coordinates per particle: (p_x, p_y, x, y)\n",
    "    X = zeros(Float64, 4,N)\n",
    "    # Maxwell distribution of the velocities\n",
    "    d = Normal(0.0, 1.0/sqrt(T))\n",
    "    X[1:2,:] = rand(d, (2,N))\n",
    "    X[3,:] = 0.9*rand(N).-0.95\n",
    "    X[4,:] = 1.9*rand(N).-0.95\n",
    "    return reshape(X, :)\n",
    "end\n",
    "\n",
    "# Function defining the right hand side of our equations of motion.\n",
    "function rhs(X, p, t)\n",
    "    X = reshape(X, 4, :)\n",
    "    Xdot = zeros(Float64, size(X)...)\n",
    "    Xdot[3:4,:] = X[1:2,:]\n",
    "    Xdot[1:2,:] = wall_forces(X[3:4,:], p)\n",
    "\n",
    "    return reshape(Xdot,:)\n",
    "end\n",
    "\n",
    "\n",
    "# Plotting\n",
    "\n",
    "function plotfun(u, ts, imb; inset_position=(0.7,0.1,0.25,0.25), Tmax=5)\n",
    "    u = reshape(u, 4,:)\n",
    "    xs = u[3,:]\n",
    "    ys = u[4,:]\n",
    "    pxs = u[1,:]\n",
    "    pys = u[2,:]\n",
    "    ps = sqrt.(pxs.^2+pys.^2)\n",
    "\n",
    "    p1 = plot(legend=:none, ticks=:none, box=:none, axis_ratio=:equal)\n",
    "    plot!(1.05*[-1., 1, 1, -1, -1], 1.05*[-1., -1, 1, 1, -1], color=:black)\n",
    "    xlims!(-1.3,1.3)\n",
    "    ylims!(-1.3,1.3)\n",
    "    for q in eachcol(u)\n",
    "        plot!([q[3], q[3]+0.1*q[1]],[q[4],q[4]+0.1*q[2]],arrow=true, color=:gray)\n",
    "    end\n",
    "    scatter!(xs, ys)\n",
    "\n",
    "    p2 = plot(ts, imb, legend=:none, xlabel=\"Time\", ylabel=\"Imbalance\")\n",
    "    xlims!(0,Tmax)\n",
    "    ylims!(0.4,1)\n",
    "\n",
    "    plot!(p2, inset=bbox(inset_position...), subplot=2)\n",
    "    histogram!(p2[2], ps, bins=collect(0:0.25:4), normalize=:pdf, legend=:none, framestyle=:box, ticks=:none, title=\"Velocities\")\n",
    "    vs=collect(0:0.02:4)\n",
    "    plot!(p2[2], vs,(vs/T).* exp.(-0.5*vs.^2/T))\n",
    "    ylims!(p2[2], 0,1.1)\n",
    "\n",
    "    return plot!(p1,p2, size=(800,400))\n",
    "end"
   ]
  },
  {
   "cell_type": "code",
   "execution_count": null,
   "metadata": {},
   "outputs": [],
   "source": [
    "T=1\n",
    "N=100\n",
    "\n",
    "X=initialize(N, T)\n",
    "tspan = (0,5)\n",
    "\n",
    "problem = ODEProblem(rhs, X, tspan, false)\n",
    "\n",
    "sol = solve(problem, saveat=0.01, reltol=1e-5);"
   ]
  },
  {
   "cell_type": "code",
   "execution_count": null,
   "metadata": {},
   "outputs": [],
   "source": [
    "imb = [(1.0*sum(reshape(x,4,:)[3,:] .< 0))/N for x in sol.u]\n",
    "anim = @animate for (i,t) in enumerate(sol.t)\n",
    "    plotfun(sol.u[i], sol.t[1:i], imb[1:i])\n",
    "end\n",
    "gif(anim, \"anim_expansion.gif\", fps = 15)"
   ]
  },
  {
   "cell_type": "code",
   "execution_count": null,
   "metadata": {},
   "outputs": [],
   "source": [
    "tspan = (0,10)\n",
    "\n",
    "X0 = deepcopy(sol[end])\n",
    "X0 = reshape(X0, 4, :)\n",
    "X0[1:2,:] = -X0[1:2,:]\n",
    "X0 = reshape(X0, :)\n",
    "\n",
    "problem = ODEProblem(rhs, X0, tspan, false)\n",
    "\n",
    "sol_echo = solve(problem, saveat=0.01, reltol=1e-5);"
   ]
  },
  {
   "cell_type": "code",
   "execution_count": null,
   "metadata": {},
   "outputs": [],
   "source": [
    "imb = [(1.0*sum(reshape(x,4,:)[3,:] .< 0))/N for x in sol_echo.u]\n",
    "anim = @animate for (i,t) in enumerate(sol_echo.t)\n",
    "    plotfun(sol_echo.u[i], sol_echo.t[1:i], imb[1:i]; inset_position=(0.2,0.1,0.25,0.25), Tmax=5)\n",
    "    if t>5\n",
    "        break\n",
    "    end\n",
    "end\n",
    "gif(anim, \"anim_echo_short.gif\", fps = 15)"
   ]
  },
  {
   "cell_type": "code",
   "execution_count": null,
   "metadata": {},
   "outputs": [],
   "source": [
    "imb = [(1.0*sum(reshape(x,4,:)[3,:] .< 0))/N for x in sol_echo.u]\n",
    "anim = @animate for (i,t) in enumerate(sol_echo.t)\n",
    "    plotfun(sol_echo.u[i], sol_echo.t[1:i], imb[1:i]; inset_position=(0.2,0.1,0.25,0.25), Tmax=10)\n",
    "end\n",
    "gif(anim, \"anim_echo.gif\", fps = 15)"
   ]
  },
  {
   "cell_type": "code",
   "execution_count": null,
   "metadata": {},
   "outputs": [],
   "source": [
    "tspan = (0,10)\n",
    "\n",
    "X0 = deepcopy(sol[end])\n",
    "X0 = reshape(X0, 4, :)\n",
    "X0[1:2,:] = -X0[1:2,:] + 0.05 * randn(2,N)\n",
    "X0 = reshape(X0, :)\n",
    "\n",
    "problem = ODEProblem(rhs, X0, tspan, false)\n",
    "\n",
    "sol_imperfect_echo = solve(problem, saveat=0.01, reltol=1e-5);"
   ]
  },
  {
   "cell_type": "code",
   "execution_count": null,
   "metadata": {},
   "outputs": [],
   "source": [
    "imb_echo = [(1.0*sum(reshape(x,4,:)[3,:] .< 0))/N for x in sol_echo.u]\n",
    "imb_imperfect_echo = [(1.0*sum(reshape(x,4,:)[3,:] .< 0))/N for x in sol_imperfect_echo.u]\n",
    "plot(sol_echo.t, imb_echo, xlabel=\"Time\", ylabel=\"Imbalance\", label=\"Unperturbed\")\n",
    "plot!(sol_imperfect_echo.t, imb_imperfect_echo, label=\"Perturbed\")"
   ]
  },
  {
   "cell_type": "code",
   "execution_count": null,
   "metadata": {},
   "outputs": [],
   "source": []
  }
 ],
 "metadata": {
  "kernelspec": {
   "display_name": "Julia 1.9.2",
   "language": "julia",
   "name": "julia-1.9"
  },
  "language_info": {
   "file_extension": ".jl",
   "mimetype": "application/julia",
   "name": "julia",
   "version": "1.9.2"
  }
 },
 "nbformat": 4,
 "nbformat_minor": 2
}
